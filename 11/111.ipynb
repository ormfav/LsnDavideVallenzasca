{
 "cells": [
  {
   "cell_type": "markdown",
   "id": "eec349fa",
   "metadata": {},
   "source": [
    "# $11^{th}$ excercise"
   ]
  },
  {
   "cell_type": "code",
   "execution_count": 25,
   "id": "f4c67f59",
   "metadata": {},
   "outputs": [],
   "source": [
    "import os\n",
    "os.environ['KMP_DUPLICATE_LIB_OK']='True'\n",
    "import tensorflow as tf\n",
    "from tensorflow import keras\n",
    "\n",
    "from tensorflow.keras.models import Sequential\n",
    "from tensorflow.keras.layers import Dense, Activation\n",
    "from tensorflow.keras import backend as K\n",
    "from tensorflow.keras.utils import get_custom_objects\n",
    "\n",
    "import numpy as np"
   ]
  },
  {
   "cell_type": "code",
   "execution_count": 26,
   "id": "fe275f01",
   "metadata": {},
   "outputs": [],
   "source": [
    "# target parameters of f(x) = m*x + b\n",
    "m = 2 \n",
    "b = 1 "
   ]
  },
  {
   "cell_type": "code",
   "execution_count": 67,
   "id": "7ffcadbf",
   "metadata": {},
   "outputs": [],
   "source": [
    "import pandas as pd\n",
    "sigmas = np.array([0.,0.1,1])\n",
    "ntrains = np.linspace(100,1000,3,dtype=int)\n",
    "epochss = np.linspace(10,100,3,dtype=int)\n",
    "df = pd.DataFrame({'sigma': sigmas, 'N_train':ntrains, 'N_epochs': epochss})"
   ]
  },
  {
   "cell_type": "markdown",
   "id": "9f7c51fd",
   "metadata": {},
   "source": [
    "Voglio plottare: m_model - m, b_model -b -> 2, 27 pti ognuna\n",
    "Loss functions: -> 27 grafici -> faccio script che stampa 3 grafici in cui una quantità varia e le altre sono fisse"
   ]
  },
  {
   "cell_type": "markdown",
   "id": "cf835335",
   "metadata": {},
   "source": [
    "One should consider the following blocks as interactive. Our script produced 27 datasets of Train/Validation loss in function of epochs. Referring to the following table:"
   ]
  },
  {
   "cell_type": "markdown",
   "id": "92f5a13a",
   "metadata": {},
   "source": [
    "One is able to choose one of those three quantities using their column name and then fix a value for the other two quantities using their row index. The block will produce 3 output graphs of the loss functions where the chosen quantity is different in each graph, while the ohter two are fixed to the selected values."
   ]
  },
  {
   "cell_type": "code",
   "execution_count": 50,
   "id": "ec119596",
   "metadata": {},
   "outputs": [],
   "source": [
    "def TestParameters():\n",
    "    deltaepochss=np.ones(len(epochss))*epochss[0]\n",
    "    for i in range(len(epochss)-1):\n",
    "        deltaepochss[i+1]=epochss[i+1]-epochss[i] \n",
    "    print(\"Epochs delta: \",deltaepochss)\n",
    "        \n",
    "    # open and clear output files\n",
    "    fout_m = open(\"out/111-m_diff.csv\",\"a\")\n",
    "    fout_b = open(\"out/111-b_diff.csv\",\"a\")\n",
    "    fout_m.truncate(0)\n",
    "    fout_b.truncate(0)\n",
    "\n",
    "    for ntrain in ntrains:\n",
    "        nvalid = ntrain // 10\n",
    "        np.random.seed(0)\n",
    "        tf.random.set_seed(0)\n",
    "        #creating training and validation datasets\n",
    "        x_train = np.random.uniform(-1, 1, ntrain)\n",
    "        x_valid = np.random.uniform(-1, 1, nvalid)\n",
    "        x_valid.sort()\n",
    "        y_target = m * x_valid + b \n",
    "\n",
    "        for sigma in sigmas:\n",
    "            np.random.seed(0)\n",
    "            tf.random.set_seed(0)\n",
    "            y_train = np.random.normal(m * x_train + b, sigma) \n",
    "            y_valid = np.random.normal(m * x_valid + b, sigma) \n",
    "            #creating and compiling the model\n",
    "            model = tf.keras.Sequential()\n",
    "            model.add(Dense(1, input_shape=(1,)))\n",
    "            model.compile(optimizer='sgd', loss='mse', metrics=['mse'])\n",
    "            \n",
    "            df=pd.DataFrame()\n",
    "            \n",
    "            for epochs in epochss:\n",
    "                #optimizing the model\n",
    "                ## model.fit(epochs=20)=four calls of\n",
    "                ## model.fit(epochs=5)\n",
    "                history = model.fit(x=x_train, y=y_train, \n",
    "                                    batch_size=32, \n",
    "                                    epochs=epochs,\n",
    "                                    shuffle=True, \n",
    "                                    validation_data=(x_valid, y_valid))        \n",
    "                df=pd.concat([df,pd.DataFrame(history.history)])\n",
    "                \n",
    "                # output\n",
    "                mb = model.get_weights()\n",
    "\n",
    "                printm=str(mb[0]-m)[2:-2]\n",
    "                printb=str(mb[1]-b)[1:-1] #don't want brackets in final string\n",
    "                fout_m.write(printm+\"\\n\")\n",
    "                fout_b.write(printb+\"\\n\")\n",
    "            \n",
    "            path_history=\"out/111-ntrain=\"+str(ntrain)+\"-sigma=\"+str(sigma)+\".csv\"\n",
    "            with open(path_history, mode='w') as file:\n",
    "                df.to_csv(file)\n",
    "            print()\n",
    "                \n"
   ]
  },
  {
   "cell_type": "code",
   "execution_count": 51,
   "id": "18965dcf",
   "metadata": {},
   "outputs": [],
   "source": [
    "RERUN=False\n",
    "if(RERUN):\n",
    "    TestParameters()"
   ]
  },
  {
   "cell_type": "code",
   "execution_count": 65,
   "id": "f3ef8a50",
   "metadata": {},
   "outputs": [
    {
     "data": {
      "image/png": "[encoded data removed]",
      "text/plain": [
       "<Figure size 1152x576 with 2 Axes>"
      ]
     },
     "metadata": {
      "needs_background": "light"
     },
     "output_type": "display_data"
    }
   ],
   "source": [
    "import matplotlib.pyplot as plt\n",
    "m=np.loadtxt(\"out/111-m_diff.csv\", usecols=(0), unpack=True )\n",
    "b=np.loadtxt(\"out/111-b_diff.csv\", usecols=(0), unpack=True )\n",
    "x=np.arange(0,len(m))\n",
    "\n",
    "\n",
    "fig=plt.figure(figsize=(16, 8))\n",
    "plt.suptitle('equi', weight='bold')\n",
    "plt.subplot(121)\n",
    "plt.scatter(x,m)\n",
    "for l in np.arange(2.5,len(m)-3,3):\n",
    "    plt.axvline(l,ls=\":\")\n",
    "for l in np.arange(8.5,len(m)-9,9):\n",
    "    plt.axvline(l,ls=\"--\")\n",
    "\n",
    "plt.subplot(122)\n",
    "plt.scatter(x,b)\n",
    "for l in np.arange(2.5,len(m)-3,3):\n",
    "    plt.axvline(l,ls=\":\")\n",
    "for l in np.arange(8.5,len(m)-9,9):\n",
    "    plt.axvline(l,ls=\"--\")\n",
    "\n"
   ]
  },
  {
   "cell_type": "markdown",
   "id": "63e784f4",
   "metadata": {},
   "source": [
    "each point refers to a different epochs\n",
    "dotted box: data of different ntrains\n",
    "dashed box: data of different sigmas"
   ]
  },
  {
   "cell_type": "code",
   "execution_count": 68,
   "id": "fbaaadaf",
   "metadata": {},
   "outputs": [
    {
     "data": {
      "text/html": [
       "<div>\n",
       "<style scoped>\n",
       "    .dataframe tbody tr th:only-of-type {\n",
       "        vertical-align: middle;\n",
       "    }\n",
       "\n",
       "    .dataframe tbody tr th {\n",
       "        vertical-align: top;\n",
       "    }\n",
       "\n",
       "    .dataframe thead th {\n",
       "        text-align: right;\n",
       "    }\n",
       "</style>\n",
       "<table border=\"1\" class=\"dataframe\">\n",
       "  <thead>\n",
       "    <tr style=\"text-align: right;\">\n",
       "      <th></th>\n",
       "      <th>sigma</th>\n",
       "      <th>N_train</th>\n",
       "      <th>N_epochs</th>\n",
       "    </tr>\n",
       "  </thead>\n",
       "  <tbody>\n",
       "    <tr>\n",
       "      <th>0</th>\n",
       "      <td>0.0</td>\n",
       "      <td>100</td>\n",
       "      <td>10</td>\n",
       "    </tr>\n",
       "    <tr>\n",
       "      <th>1</th>\n",
       "      <td>0.1</td>\n",
       "      <td>550</td>\n",
       "      <td>55</td>\n",
       "    </tr>\n",
       "    <tr>\n",
       "      <th>2</th>\n",
       "      <td>1.0</td>\n",
       "      <td>1000</td>\n",
       "      <td>100</td>\n",
       "    </tr>\n",
       "  </tbody>\n",
       "</table>\n",
       "</div>"
      ],
      "text/plain": [
       "   sigma  N_train  N_epochs\n",
       "0    0.0      100        10\n",
       "1    0.1      550        55\n",
       "2    1.0     1000       100"
      ]
     },
     "metadata": {},
     "output_type": "display_data"
    }
   ],
   "source": [
    "display(df)"
   ]
  },
  {
   "cell_type": "code",
   "execution_count": null,
   "id": "e221c92d",
   "metadata": {},
   "outputs": [],
   "source": [
    "fix = \"sigma\"\n",
    "at_value = 0\n",
    "\n",
    "path=\"out/111-ntrain=\"+str(ntrain)+\"-sigma=\"+str(sigma)+\".csv\"\n"
   ]
  }
 ],
 "metadata": {
  "kernelspec": {
   "display_name": "Python 3 (ipykernel)",
   "language": "python",
   "name": "python3"
  },
  "language_info": {
   "codemirror_mode": {
    "name": "ipython",
    "version": 3
   },
   "file_extension": ".py",
   "mimetype": "text/x-python",
   "name": "python",
   "nbconvert_exporter": "python",
   "pygments_lexer": "ipython3",
   "version": "3.10.5"
  }
 },
 "nbformat": 4,
 "nbformat_minor": 5
}
