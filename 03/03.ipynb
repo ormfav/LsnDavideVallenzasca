{
 "cells": [
  {
   "cell_type": "markdown",
   "id": "3686acc6",
   "metadata": {},
   "source": [
    "# $3^{rd}$ exercise"
   ]
  },
  {
   "cell_type": "markdown",
   "id": "6ad67e04",
   "metadata": {},
   "source": [
    "## Notebook setup"
   ]
  },
  {
   "cell_type": "markdown",
   "id": "a493b60f",
   "metadata": {},
   "source": [
    "#### Used libraries"
   ]
  },
  {
   "cell_type": "code",
   "execution_count": 7,
   "id": "3a6fe27a",
   "metadata": {},
   "outputs": [],
   "source": [
    "import numpy as np \n",
    "import matplotlib\n",
    "import matplotlib.pyplot as plt"
   ]
  },
  {
   "cell_type": "markdown",
   "id": "89903ed6",
   "metadata": {},
   "source": [
    "#### Reading and printing config files"
   ]
  },
  {
   "cell_type": "code",
   "execution_count": 8,
   "id": "c2beba2c",
   "metadata": {},
   "outputs": [],
   "source": [
    "def LoadConfig(path):\n",
    "    d={}\n",
    "    with open(path) as file:\n",
    "        for line in file:\n",
    "            (directive,key, val) = line.split()\n",
    "            if(directive==\"#define\"): d[key] = val\n",
    "    return d\n",
    "\n",
    "def PrintConf(d):\n",
    "    for key, val in d.items(): print(\"{0:<19}{1}\".format(key,val))"
   ]
  },
  {
   "cell_type": "markdown",
   "id": "d16c5e44",
   "metadata": {},
   "source": [
    "#### Colors, just for fun"
   ]
  },
  {
   "cell_type": "code",
   "execution_count": 9,
   "id": "2d82da1f",
   "metadata": {},
   "outputs": [],
   "source": [
    "bgp = \"#191724\"\n",
    "txt = \"#e0def4\"\n",
    "err = \"#908caa\"\n",
    "er2 = \"#6e6a86\"\n",
    "lmn = \"#eb6f92\""
   ]
  },
  {
   "cell_type": "markdown",
   "id": "77d9254f",
   "metadata": {},
   "source": [
    "## 03.1 - Montecarlo simulation of the europena call&put-option prices"
   ]
  },
  {
   "cell_type": "markdown",
   "id": "d7710330",
   "metadata": {},
   "source": [
    "**Goal:** Computing the call-option and put-option prices at the initial time and compare this solution to the one obtained analitically with black-scholes theory. each option price is simulated in two ways: sampling directly he final asset price at time `T` and dividing the interval $[0,T]$ into `N_INTERVALS` subintervals and evaluating the price at each step.\n",
    "\n",
    "**Expectations:**  Given the parameters indicated in the next session:<br>\n",
    "Call-option price: 14.975790778311286 <br>\n",
    "Put-option price :  5.4595325819072364\n",
    "\n",
    "**Methodological notes:** We use the datablocking method to evaluate statistical uncertainties."
   ]
  },
  {
   "cell_type": "markdown",
   "id": "7751a827",
   "metadata": {},
   "source": [
    "###  Parameters\n",
    "We set the initial price to `S0`, the delivery time to `T`, the strike price to `STRIKE_PRICE`. We suppose to have an intrest rate `INTREST_RATE` and a volatility `SIGMA` -with:"
   ]
  },
  {
   "cell_type": "code",
   "execution_count": 11,
   "id": "24fc99a7",
   "metadata": {},
   "outputs": [
    {
     "name": "stdout",
     "output_type": "stream",
     "text": [
      "S0                 100\n",
      "T                  1\n",
      "STRIKE_PRICE       100\n",
      "INTREST_RATE       0.1\n",
      "SIGMA              0.25\n"
     ]
    }
   ],
   "source": [
    "c1=LoadConfig(\"in/031-options-conf.inl\")\n",
    "PrintConf(c1)\n"
   ]
  },
  {
   "cell_type": "markdown",
   "id": "fa856cca",
   "metadata": {},
   "source": [
    "For the datablocking we used `N_BLOCKS` blocks with `STEPS_PER_BLOCK` steps each -with:"
   ]
  },
  {
   "cell_type": "code",
   "execution_count": 12,
   "id": "166041c1",
   "metadata": {},
   "outputs": [
    {
     "name": "stdout",
     "output_type": "stream",
     "text": [
      "N_BLOCKS           100\n",
      "STEPS_PER_BLOCK    1000\n",
      "N_INTERVALS        100\n"
     ]
    }
   ],
   "source": [
    "c2=LoadConfig(\"in/031-datablocking-conf.inl\")\n",
    "PrintConf(c2)"
   ]
  },
  {
   "cell_type": "markdown",
   "id": "53855591",
   "metadata": {},
   "source": [
    "For the discretized computation of the final price we divided the interval $[0,T]$ into `N_INTERVALS` subintervals -with:"
   ]
  },
  {
   "cell_type": "markdown",
   "id": "cf48a859",
   "metadata": {},
   "source": [
    "### Results\n",
    "#### Call-option price"
   ]
  },
  {
   "cell_type": "code",
   "execution_count": 32,
   "id": "c89174e9",
   "metadata": {},
   "outputs": [
    {
     "ename": "ValueError",
     "evalue": "Some errors were detected !\n    Line #7 (got 9 columns instead of 5)\n    Line #9 (got 170 columns instead of 5)\n    Line #20 (got 9 columns instead of 5)\n    Line #23 (got 34 columns instead of 5)\n    Line #33 (got 9 columns instead of 5)\n    Line #35 (got 113 columns instead of 5)",
     "output_type": "error",
     "traceback": [
      "\u001b[0;31m---------------------------------------------------------------------------\u001b[0m",
      "\u001b[0;31mValueError\u001b[0m                                Traceback (most recent call last)",
      "Input \u001b[0;32mIn [32]\u001b[0m, in \u001b[0;36m<cell line: 5>\u001b[0;34m()\u001b[0m\n\u001b[1;32m      2\u001b[0m plt\u001b[38;5;241m.\u001b[39msuptitle(\u001b[38;5;124m'\u001b[39m\u001b[38;5;124mCall-option price\u001b[39m\u001b[38;5;124m'\u001b[39m, weight\u001b[38;5;241m=\u001b[39m\u001b[38;5;124m'\u001b[39m\u001b[38;5;124mbold\u001b[39m\u001b[38;5;124m'\u001b[39m)\n\u001b[1;32m      4\u001b[0m \u001b[38;5;66;03m#direct \u001b[39;00m\n\u001b[0;32m----> 5\u001b[0m data \u001b[38;5;241m=\u001b[39m \u001b[43mnp\u001b[49m\u001b[38;5;241;43m.\u001b[39;49m\u001b[43mgenfromtxt\u001b[49m\u001b[43m(\u001b[49m\u001b[38;5;124;43m\"\u001b[39;49m\u001b[38;5;124;43mout/031-callopt_direct.csv\u001b[39;49m\u001b[38;5;124;43m\"\u001b[39;49m\u001b[43m,\u001b[49m\u001b[43m \u001b[49m\u001b[43mdelimiter\u001b[49m\u001b[38;5;241;43m=\u001b[39;49m\u001b[38;5;124;43m\"\u001b[39;49m\u001b[38;5;124;43m,\u001b[39;49m\u001b[38;5;124;43m\"\u001b[39;49m\u001b[43m,\u001b[49m\u001b[43m \u001b[49m\u001b[43mskip_header\u001b[49m\u001b[38;5;241;43m=\u001b[39;49m\u001b[38;5;241;43m1\u001b[39;49m\u001b[43m)\u001b[49m\n\u001b[1;32m      6\u001b[0m data[:,\u001b[38;5;241m0\u001b[39m]\u001b[38;5;241m*\u001b[39m\u001b[38;5;241m=\u001b[39m\u001b[38;5;28mint\u001b[39m(c2[\u001b[38;5;124m'\u001b[39m\u001b[38;5;124mSTEPS_PER_BLOCK\u001b[39m\u001b[38;5;124m'\u001b[39m])\n\u001b[1;32m      8\u001b[0m plt\u001b[38;5;241m.\u001b[39msubplot(\u001b[38;5;241m121\u001b[39m)\n",
      "File \u001b[0;32m/usr/lib/python3.10/site-packages/numpy/lib/npyio.py:2145\u001b[0m, in \u001b[0;36mgenfromtxt\u001b[0;34m(fname, dtype, comments, delimiter, skip_header, skip_footer, converters, missing_values, filling_values, usecols, names, excludelist, deletechars, replace_space, autostrip, case_sensitive, defaultfmt, unpack, usemask, loose, invalid_raise, max_rows, encoding, like)\u001b[0m\n\u001b[1;32m   2143\u001b[0m \u001b[38;5;66;03m# Raise an exception ?\u001b[39;00m\n\u001b[1;32m   2144\u001b[0m \u001b[38;5;28;01mif\u001b[39;00m invalid_raise:\n\u001b[0;32m-> 2145\u001b[0m     \u001b[38;5;28;01mraise\u001b[39;00m \u001b[38;5;167;01mValueError\u001b[39;00m(errmsg)\n\u001b[1;32m   2146\u001b[0m \u001b[38;5;66;03m# Issue a warning ?\u001b[39;00m\n\u001b[1;32m   2147\u001b[0m \u001b[38;5;28;01melse\u001b[39;00m:\n\u001b[1;32m   2148\u001b[0m     warnings\u001b[38;5;241m.\u001b[39mwarn(errmsg, ConversionWarning, stacklevel\u001b[38;5;241m=\u001b[39m\u001b[38;5;241m2\u001b[39m)\n",
      "\u001b[0;31mValueError\u001b[0m: Some errors were detected !\n    Line #7 (got 9 columns instead of 5)\n    Line #9 (got 170 columns instead of 5)\n    Line #20 (got 9 columns instead of 5)\n    Line #23 (got 34 columns instead of 5)\n    Line #33 (got 9 columns instead of 5)\n    Line #35 (got 113 columns instead of 5)"
     ]
    },
    {
     "data": {
      "text/plain": [
       "<Figure size 1152x576 with 0 Axes>"
      ]
     },
     "metadata": {},
     "output_type": "display_data"
    }
   ],
   "source": [
    "fig=plt.figure(figsize=(16, 8))\n",
    "plt.suptitle('Call-option price', weight='bold')\n",
    "\n",
    "#direct \n",
    "data = np.genfromtxt(\"out/031-callopt_direct.csv\", delimiter=\",\", skip_header=1)\n",
    "data[:,0]*=int(c2['STEPS_PER_BLOCK'])\n",
    "\n",
    "plt.subplot(121)\n",
    "fig.axes[0].set_facecolor(bgp)\n",
    "\n",
    "cop = 14.975790778311286\n",
    "plt.ylim(14.5, 15.7)\n",
    "plt.hlines(cop, 0, int(c2['STEPS_PER_BLOCK'])*int(c2[\"N_BLOCKS\"]),color=lmn)\n",
    "#posso mettere insieme a errorbar? ha senso cambiare tipo di grafico?\n",
    "plt.vlines(data[:,0],-data[:,4]+data[:,3],data[:,4]+data[:,3],color=err,alpha=0.8)\n",
    "plt.errorbar(data[:,0],data[:,3],color=txt)\n",
    "\n",
    "plt.xlabel('M')\n",
    "plt.ylabel('$S\\,(0)$')\n",
    "plt.title(\"Direct\")\n",
    "plt.grid(alpha=0.3)\n",
    "\n",
    "#discrete \n",
    "data = np.genfromtxt(\"out/031-callopt_discrete.csv\", delimiter=\",\", skip_header=1)\n",
    "data[:,0]*=int(c2['STEPS_PER_BLOCK'])\n",
    "\n",
    "plt.subplot(122)\n",
    "fig.axes[1].set_facecolor(bgp)\n",
    "\n",
    "plt.ylim(14.5, 15.7)\n",
    "plt.hlines(cop, 0, int(c2['STEPS_PER_BLOCK'])*int(c2[\"N_BLOCKS\"]),color=lmn)\n",
    "#posso mettere insieme a errorbar? ha senso cambiare tipo di grafico?\n",
    "plt.vlines(data[:,0],-data[:,4]+data[:,3],data[:,4]+data[:,3],color=err,alpha=0.8)\n",
    "plt.errorbar(data[:,0],data[:,3],color=txt)\n",
    "\n",
    "plt.tick_params(left=False,labelleft=False)\n",
    "plt.xlabel('M')\n",
    "plt.title(\"Discrete\")\n",
    "plt.grid(alpha=0.3)\n",
    "\n",
    "plt.tight_layout()\n",
    "\n",
    "\n",
    "plt.show()"
   ]
  },
  {
   "cell_type": "markdown",
   "id": "214a4bba",
   "metadata": {},
   "source": [
    "#### Put-option price"
   ]
  },
  {
   "cell_type": "code",
   "execution_count": 31,
   "id": "af5ee07f",
   "metadata": {},
   "outputs": [
    {
     "ename": "ValueError",
     "evalue": "Some errors were detected !\n    Line #3 (got 477 columns instead of 13)",
     "output_type": "error",
     "traceback": [
      "\u001b[0;31m---------------------------------------------------------------------------\u001b[0m",
      "\u001b[0;31mValueError\u001b[0m                                Traceback (most recent call last)",
      "Input \u001b[0;32mIn [31]\u001b[0m, in \u001b[0;36m<cell line: 5>\u001b[0;34m()\u001b[0m\n\u001b[1;32m      2\u001b[0m plt\u001b[38;5;241m.\u001b[39msuptitle(\u001b[38;5;124m'\u001b[39m\u001b[38;5;124mPut-option price\u001b[39m\u001b[38;5;124m'\u001b[39m, weight\u001b[38;5;241m=\u001b[39m\u001b[38;5;124m'\u001b[39m\u001b[38;5;124mbold\u001b[39m\u001b[38;5;124m'\u001b[39m)\n\u001b[1;32m      4\u001b[0m \u001b[38;5;66;03m#direct \u001b[39;00m\n\u001b[0;32m----> 5\u001b[0m data \u001b[38;5;241m=\u001b[39m \u001b[43mnp\u001b[49m\u001b[38;5;241;43m.\u001b[39;49m\u001b[43mgenfromtxt\u001b[49m\u001b[43m(\u001b[49m\u001b[38;5;124;43m\"\u001b[39;49m\u001b[38;5;124;43mout/031-putopt_direct.csv\u001b[39;49m\u001b[38;5;124;43m\"\u001b[39;49m\u001b[43m,\u001b[49m\u001b[43m \u001b[49m\u001b[43mdelimiter\u001b[49m\u001b[38;5;241;43m=\u001b[39;49m\u001b[38;5;124;43m\"\u001b[39;49m\u001b[38;5;124;43m,\u001b[39;49m\u001b[38;5;124;43m\"\u001b[39;49m\u001b[43m,\u001b[49m\u001b[43m \u001b[49m\u001b[43mskip_header\u001b[49m\u001b[38;5;241;43m=\u001b[39;49m\u001b[38;5;241;43m1\u001b[39;49m\u001b[43m)\u001b[49m\n\u001b[1;32m      6\u001b[0m data[:,\u001b[38;5;241m0\u001b[39m]\u001b[38;5;241m*\u001b[39m\u001b[38;5;241m=\u001b[39m\u001b[38;5;28mint\u001b[39m(c2[\u001b[38;5;124m'\u001b[39m\u001b[38;5;124mSTEPS_PER_BLOCK\u001b[39m\u001b[38;5;124m'\u001b[39m])\n\u001b[1;32m      8\u001b[0m plt\u001b[38;5;241m.\u001b[39msubplot(\u001b[38;5;241m121\u001b[39m)\n",
      "File \u001b[0;32m/usr/lib/python3.10/site-packages/numpy/lib/npyio.py:2145\u001b[0m, in \u001b[0;36mgenfromtxt\u001b[0;34m(fname, dtype, comments, delimiter, skip_header, skip_footer, converters, missing_values, filling_values, usecols, names, excludelist, deletechars, replace_space, autostrip, case_sensitive, defaultfmt, unpack, usemask, loose, invalid_raise, max_rows, encoding, like)\u001b[0m\n\u001b[1;32m   2143\u001b[0m \u001b[38;5;66;03m# Raise an exception ?\u001b[39;00m\n\u001b[1;32m   2144\u001b[0m \u001b[38;5;28;01mif\u001b[39;00m invalid_raise:\n\u001b[0;32m-> 2145\u001b[0m     \u001b[38;5;28;01mraise\u001b[39;00m \u001b[38;5;167;01mValueError\u001b[39;00m(errmsg)\n\u001b[1;32m   2146\u001b[0m \u001b[38;5;66;03m# Issue a warning ?\u001b[39;00m\n\u001b[1;32m   2147\u001b[0m \u001b[38;5;28;01melse\u001b[39;00m:\n\u001b[1;32m   2148\u001b[0m     warnings\u001b[38;5;241m.\u001b[39mwarn(errmsg, ConversionWarning, stacklevel\u001b[38;5;241m=\u001b[39m\u001b[38;5;241m2\u001b[39m)\n",
      "\u001b[0;31mValueError\u001b[0m: Some errors were detected !\n    Line #3 (got 477 columns instead of 13)"
     ]
    },
    {
     "data": {
      "text/plain": [
       "<Figure size 1152x576 with 0 Axes>"
      ]
     },
     "metadata": {},
     "output_type": "display_data"
    }
   ],
   "source": [
    "fig=plt.figure(figsize=(16, 8))\n",
    "plt.suptitle('Put-option price', weight='bold')\n",
    "\n",
    "#direct \n",
    "data = np.genfromtxt(\"out/031-putopt_direct.csv\", delimiter=\",\", skip_header=1)\n",
    "data[:,0]*=int(c2['STEPS_PER_BLOCK'])\n",
    "\n",
    "plt.subplot(121)\n",
    "fig.axes[0].set_facecolor(bgp)\n",
    "\n",
    "pop = 5.4595325819072364\n",
    "plt.ylim(5.10, 5.70)\n",
    "plt.hlines(pop, 0, int(c2['STEPS_PER_BLOCK'])*int(c2[\"N_BLOCKS\"]),color=lmn)\n",
    "#posso mettere insieme a errorbar? ha senso cambiare tipo di grafico?\n",
    "plt.vlines(data[:,0],-data[:,4]+data[:,3],data[:,4]+data[:,3],color=err,alpha=0.8)\n",
    "plt.errorbar(data[:,0],data[:,3],color=txt)\n",
    "\n",
    "plt.xlabel('M')\n",
    "plt.ylabel('$S\\,(0)$')\n",
    "plt.title(\"Direct\")\n",
    "plt.grid(alpha=0.3)\n",
    "\n",
    "#discrete \n",
    "data = np.genfromtxt(\"out/031-putopt_discrete.csv\", delimiter=\",\", skip_header=1)\n",
    "data[:,0]*=int(c2['STEPS_PER_BLOCK'])\n",
    "\n",
    "plt.subplot(122)\n",
    "fig.axes[1].set_facecolor(bgp)\n",
    "\n",
    "plt.ylim(5.10, 5.70)\n",
    "plt.hlines(pop, 0, int(c2['STEPS_PER_BLOCK'])*int(c2[\"N_BLOCKS\"]),color=lmn)\n",
    "#posso mettere insieme a errorbar? ha senso cambiare tipo di grafico?\n",
    "plt.vlines(data[:,0],-data[:,4]+data[:,3],data[:,4]+data[:,3],color=err,alpha=0.8)\n",
    "plt.errorbar(data[:,0],data[:,3],color=txt)\n",
    "\n",
    "plt.tick_params(left=False,labelleft=False)\n",
    "plt.xlabel('M')\n",
    "plt.title(\"Discrete\")\n",
    "plt.grid(alpha=0.3)\n",
    "\n",
    "plt.tight_layout()\n",
    "\n",
    "\n",
    "plt.show()"
   ]
  },
  {
   "cell_type": "markdown",
   "id": "0f920169",
   "metadata": {},
   "source": [
    "### Conclusion\n",
    "Results confirm our expectations"
   ]
  }
 ],
 "metadata": {
  "kernelspec": {
   "display_name": "Python 3 (ipykernel)",
   "language": "python",
   "name": "python3"
  },
  "language_info": {
   "codemirror_mode": {
    "name": "ipython",
    "version": 3
   },
   "file_extension": ".py",
   "mimetype": "text/x-python",
   "name": "python",
   "nbconvert_exporter": "python",
   "pygments_lexer": "ipython3",
   "version": "3.10.4"
  }
 },
 "nbformat": 4,
 "nbformat_minor": 5
}
