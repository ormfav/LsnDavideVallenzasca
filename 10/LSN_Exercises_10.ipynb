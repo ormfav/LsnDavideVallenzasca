{
 "cells": [
  {
   "cell_type": "markdown",
   "metadata": {},
   "source": [
    "# <span style=\"color:green\"> Numerical Simulation Laboratory (NSL) </span>\n",
    "## <span style=\"color:blue\">  Numerical exercises 10</span>"
   ]
  },
  {
   "cell_type": "markdown",
   "metadata": {},
   "source": [
    "### Exercise 10.1\n",
    "\n",
    "Parallelize with MPI libraries your Genetic Algorithm code in order to solve the TSP by performing a *Genetic Search* with (up to) 10 **parallel GA searches of the optimal path**:\n",
    "each node should perform an independent GA search, the so-called *Continent* (se lancio su un solo processo deve andare tutto come in es 9), **but** every $N_{migr}$ generations the *Continents* should exchange their best individuals randomly.\n",
    "GA dovrebbe convergere su circa 200 generazioni. \n",
    "Posso chiedere dopo ca 20 gen di far migrare il migliore di un nodo su un altro nodo\n",
    "\n",
    "In summa 3 utilizzi:\n",
    "come in es 9\n",
    "più processi in parallelo per avere tot soluzioni diverse \n",
    "più processi in parallelo con scambi"
   ]
  },
  {
   "cell_type": "markdown",
   "metadata": {},
   "source": [
    "### Exercise 10.2\n",
    "\n",
    "Apply your code to the TSP problem for 50 american state-capitals longitude and latitude coordinates in the *American_capitals.dat* file.\n",
    "\n",
    "Do you improve with respect using one single Continent?\n",
    "\n",
    "Do you improve with respect using (up to) 10 independent Continents?\n",
    "\n",
    "Se osservo che i risultati nei tre modi è sempre lo stesso allora posso decidere di aumentare oltre 50 città"
   ]
  },
  {
   "cell_type": "code",
   "execution_count": null,
   "metadata": {},
   "outputs": [],
   "source": []
  }
 ],
 "metadata": {
  "kernelspec": {
   "display_name": "Python 3 (ipykernel)",
   "language": "python",
   "name": "python3"
  },
  "language_info": {
   "codemirror_mode": {
    "name": "ipython",
    "version": 3
   },
   "file_extension": ".py",
   "mimetype": "text/x-python",
   "name": "python",
   "nbconvert_exporter": "python",
   "pygments_lexer": "ipython3",
   "version": "3.10.5"
  }
 },
 "nbformat": 4,
 "nbformat_minor": 2
}
