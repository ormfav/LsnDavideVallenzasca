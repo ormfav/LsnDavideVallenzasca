{
 "cells": [
  {
   "cell_type": "code",
   "execution_count": 40,
   "id": "d40b579c",
   "metadata": {},
   "outputs": [],
   "source": [
    "import os\n",
    "os.environ['KMP_DUPLICATE_LIB_OK']='True'\n",
    "import tensorflow as tf\n",
    "from tensorflow import keras\n",
    "import numpy as np\n",
    "import matplotlib.pyplot as plt"
   ]
  },
  {
   "cell_type": "code",
   "execution_count": 41,
   "id": "4fe505eb",
   "metadata": {},
   "outputs": [],
   "source": [
    "seed=0\n",
    "np.random.seed(seed)\n",
    "tf.random.set_seed(seed)"
   ]
  },
  {
   "cell_type": "code",
   "execution_count": 42,
   "id": "7d07d2f3",
   "metadata": {},
   "outputs": [
    {
     "name": "stdout",
     "output_type": "stream",
     "text": [
      "X_train shape: (60000, 28, 28)\n",
      "Y_train shape: (60000,)\n",
      "\n",
      "X_test shape: (10000, 28, 28)\n",
      "Y_test shape: (10000,)\n"
     ]
    }
   ],
   "source": [
    "from keras.datasets import mnist\n",
    "\n",
    "# input image dimensions\n",
    "img_rows, img_cols = 28, 28 # number of pixels \n",
    "# output\n",
    "num_classes = 10 # 10 digits\n",
    "\n",
    "# the data, split between train and test sets\n",
    "(x_train, y_train), (x_test, y_test) = mnist.load_data()\n",
    "\n",
    "print('X_train shape:', x_train.shape)\n",
    "print('Y_train shape:', y_train.shape)\n",
    "print()\n",
    "print('X_test shape:', x_test.shape)\n",
    "print('Y_test shape:', y_test.shape)"
   ]
  },
  {
   "cell_type": "code",
   "execution_count": 56,
   "id": "3a2aeb0f",
   "metadata": {},
   "outputs": [
    {
     "name": "stdout",
     "output_type": "stream",
     "text": [
      "(28, 28, 1)\n",
      "X_train shape: (60000, 28, 28, 1)\n",
      "Y_train shape: (60000, 10)\n",
      "\n",
      "X_test shape: (10000, 28, 28, 1)\n",
      "Y_test shape: (10000, 10)\n"
     ]
    }
   ],
   "source": [
    "# you will need the following for Convolutional Neural Networks\n",
    "from keras.layers import Flatten, Conv2D, MaxPooling2D\n",
    "\n",
    "# reshape data, depending on Keras backend\n",
    "if keras.backend.image_data_format() == 'channels_first':\n",
    "    X_train = x_train.reshape(x_train.shape[0], 1, img_rows, img_cols)\n",
    "    X_test = x_test.reshape(x_test.shape[0], 1, img_rows, img_cols)\n",
    "    input_shape = (1, img_rows, img_cols)\n",
    "else:\n",
    "    X_train = x_train.reshape(x_train.shape[0], img_rows, img_cols, 1)\n",
    "    X_test = x_test.reshape(x_test.shape[0], img_rows, img_cols, 1)\n",
    "    input_shape = (img_rows, img_cols, 1)\n",
    "    \n",
    "Y_train = keras.utils.to_categorical(y_train, num_classes) #inizialmente le label sono la cifra, lo voglio trasformare in vettore di bit di cui quello acceso è quello con indice la cifra (cioè quello che sarà output rete)\n",
    "Y_test = keras.utils.to_categorical(y_test, num_classes)\n",
    "\n",
    "\n",
    "print('X_train shape:', X_train.shape)\n",
    "print('Y_train shape:', Y_train.shape)\n",
    "print()\n",
    "print('X_test shape:', X_test.shape)\n",
    "print('Y_test shape:', Y_test.shape)"
   ]
  },
  {
   "cell_type": "code",
   "execution_count": 53,
   "id": "dbe70172",
   "metadata": {},
   "outputs": [],
   "source": [
    "from keras.models import Sequential\n",
    "from keras.layers import Dense, Dropout #Dropout per limitare overfitting\n",
    "from keras.layers import Flatten, Conv2D, AveragePooling2D\n",
    "\n",
    "\n",
    "def create_model():\n",
    "    #instantiate model\n",
    "    #model = Sequential()\n",
    "    #Convolutional\n",
    "    ##in: 28x28x1\n",
    "    #model.add(Conv2D(6, kernel_size=(5, 5), activation='relu', input_shape=input_shape))\n",
    "    ##out: 24x24x6, in:\n",
    "    #model.add(MaxPooling2D(pool_size=(2,2)))\n",
    "    ##out: 12x12x6, in:\n",
    "    #model.add(Dropout(0.1))\n",
    "    #model.add(Conv2D(16, kernel_size=(5,5)))\n",
    "    ##out: 8x8x16, in:\n",
    "    #model.add(MaxPooling2D(pool_size=(2,2)))\n",
    "    ##out: 4x4x16, in:\n",
    "    #Deep\n",
    "    #model.add(Flatten())\n",
    "    #model.add(Dropout(0.1))\n",
    "    #model.add(Dense(256, activation='relu'))\n",
    "    #model.add(Dense(256, activation='relu'))\n",
    "    #model.add(Dense(num_classes, activation='softmax'))\n",
    "    model = Sequential()\n",
    "    model.add(Conv2D(num_classes, kernel_size=(5, 5), activation='relu', input_shape=input_shape))\n",
    "    model.add(MaxPooling2D())\n",
    "    model.add(Dropout(0.2))\n",
    "    model.add(Conv2D(num_classes, kernel_size=(3, 3), activation='relu'))\n",
    "    model.add(MaxPooling2D())\n",
    "    model.add(Dropout(0.2))\n",
    "    model.add(Flatten())\n",
    "    model.add(Dense(num_classes, activation='softmax'))\n",
    "    model.summary()\n",
    "\n",
    "    return model"
   ]
  },
  {
   "cell_type": "code",
   "execution_count": 54,
   "id": "73bf2690",
   "metadata": {},
   "outputs": [],
   "source": [
    "from keras.optimizers import SGD, RMSprop, Adam, Nadam, Adagrad, Adadelta, Adamax\n",
    "\n",
    "def compile_model(opt_function):\n",
    "    # create the model\n",
    "    model=create_model()\n",
    "    # compile the model\n",
    "    model.compile(loss=keras.losses.categorical_crossentropy,\n",
    "                  optimizer=opt_function,\n",
    "                  metrics=['acc'])\n",
    "    return model"
   ]
  },
  {
   "cell_type": "code",
   "execution_count": 58,
   "id": "79742cba",
   "metadata": {},
   "outputs": [
    {
     "name": "stdout",
     "output_type": "stream",
     "text": [
      "Model: \"sequential_9\"\n",
      "_________________________________________________________________\n",
      " Layer (type)                Output Shape              Param #   \n",
      "=================================================================\n",
      " conv2d_16 (Conv2D)          (None, 24, 24, 10)        260       \n",
      "                                                                 \n",
      " max_pooling2d_16 (MaxPoolin  (None, 12, 12, 10)       0         \n",
      " g2D)                                                            \n",
      "                                                                 \n",
      " dropout_11 (Dropout)        (None, 12, 12, 10)        0         \n",
      "                                                                 \n",
      " conv2d_17 (Conv2D)          (None, 10, 10, 10)        910       \n",
      "                                                                 \n",
      " max_pooling2d_17 (MaxPoolin  (None, 5, 5, 10)         0         \n",
      " g2D)                                                            \n",
      "                                                                 \n",
      " dropout_12 (Dropout)        (None, 5, 5, 10)          0         \n",
      "                                                                 \n",
      " flatten_8 (Flatten)         (None, 250)               0         \n",
      "                                                                 \n",
      " dense_22 (Dense)            (None, 10)                2510      \n",
      "                                                                 \n",
      "=================================================================\n",
      "Total params: 3,680\n",
      "Trainable params: 3,680\n",
      "Non-trainable params: 0\n",
      "_________________________________________________________________\n"
     ]
    }
   ],
   "source": [
    "model_CNN=compile_model(Adam())"
   ]
  },
  {
   "cell_type": "code",
   "execution_count": 64,
   "id": "50e01090",
   "metadata": {},
   "outputs": [
    {
     "name": "stdout",
     "output_type": "stream",
     "text": [
      "Epoch 1/5\n",
      "1875/1875 [==============================] - 48s 25ms/step - loss: 0.1064 - acc: 0.9673 - val_loss: 0.0564 - val_acc: 0.9824\n",
      "Epoch 2/5\n",
      "1875/1875 [==============================] - 50s 27ms/step - loss: 0.1057 - acc: 0.9678 - val_loss: 0.0493 - val_acc: 0.9833\n",
      "Epoch 3/5\n",
      "1875/1875 [==============================] - 50s 27ms/step - loss: 0.0999 - acc: 0.9686 - val_loss: 0.0502 - val_acc: 0.9847\n",
      "Epoch 4/5\n",
      "1875/1875 [==============================] - 51s 27ms/step - loss: 0.1004 - acc: 0.9703 - val_loss: 0.0526 - val_acc: 0.9836\n",
      "Epoch 5/5\n",
      "1875/1875 [==============================] - 52s 28ms/step - loss: 0.1002 - acc: 0.9697 - val_loss: 0.0599 - val_acc: 0.9822\n",
      "Storing model and history\n"
     ]
    },
    {
     "name": "stderr",
     "output_type": "stream",
     "text": [
      "WARNING:absl:Found untraced functions such as _jit_compiled_convolution_op, _jit_compiled_convolution_op while saving (showing 2 of 2). These functions will not be directly callable after loading.\n"
     ]
    },
    {
     "name": "stdout",
     "output_type": "stream",
     "text": [
      "INFO:tensorflow:Assets written to: store/122-model.tf/assets\n"
     ]
    },
    {
     "name": "stderr",
     "output_type": "stream",
     "text": [
      "INFO:tensorflow:Assets written to: store/122-model.tf/assets\n"
     ]
    },
    {
     "name": "stdout",
     "output_type": "stream",
     "text": [
      "\n"
     ]
    }
   ],
   "source": [
    "RERUN=True\n",
    "epochs = 5\n",
    "\n",
    "if(RERUN):\n",
    "    batch_size = 32 \n",
    "    history = model_CNN.fit(X_train, Y_train,\n",
    "                            batch_size=batch_size,\n",
    "                            epochs=epochs,\n",
    "                            verbose=1,\n",
    "                            validation_data=(X_test, Y_test))\n",
    "    import pandas as pd\n",
    "    print(\"Storing model and history\")\n",
    "    path = \"store/122-\"\n",
    "    path_history = path+\"history.csv\"\n",
    "    path_model = path+\"model.tf\"\n",
    "        \n",
    "    model_CNN.save(filepath=path_model, include_optimizer=True)  \n",
    "    df  = pd.DataFrame(history.history) \n",
    "    with open(path_history, mode='w') as file:\n",
    "        df.to_csv(file)\n",
    "    print()\n"
   ]
  },
  {
   "cell_type": "code",
   "execution_count": 62,
   "id": "f18f0dc0",
   "metadata": {},
   "outputs": [
    {
     "name": "stdout",
     "output_type": "stream",
     "text": [
      "313/313 [==============================] - 4s 10ms/step - loss: 0.0547 - acc: 0.9827\n"
     ]
    },
    {
     "data": {
      "text/plain": [
       "<matplotlib.legend.Legend at 0x7f46d414f520>"
      ]
     },
     "execution_count": 62,
     "metadata": {},
     "output_type": "execute_result"
    },
    {
     "data": {
      "image/png": "[encoded data removed]",
      "text/plain": [
       "<Figure size 1152x576 with 2 Axes>"
      ]
     },
     "metadata": {
      "needs_background": "light"
     },
     "output_type": "display_data"
    }
   ],
   "source": [
    "import numpy as np\n",
    "import pandas as pd\n",
    "import matplotlib.pyplot as plt\n",
    "from tensorflow.keras.models import load_model\n",
    "\n",
    "plt.figure(figsize=(16, 8))\n",
    "plt.suptitle(\"Performances\")\n",
    "\n",
    "path = \"store/122-\"\n",
    "model_CNN=load_model(path+\"model.tf\")\n",
    "history = pd.read_csv(path+\"history.csv\")\n",
    "    \n",
    "score = model_CNN.evaluate(X_test, Y_test, verbose=1)\n",
    "\n",
    "plt.subplot(121)\n",
    "plt.plot(range(0, epochs), history.loc[:,\"loss\"],label=\"Training\")\n",
    "plt.plot(range(0, epochs), history.loc[:,\"val_loss\"],label=\"Validation\")\n",
    "plt.xlabel('epoch')\n",
    "plt.ylabel('model loss')\n",
    "plt.title('Loss')\n",
    "plt.legend()\n",
    "\n",
    "plt.subplot(122)\n",
    "plt.plot(range(0, epochs), history.loc[:,\"acc\"], label=\"Training\")\n",
    "plt.plot(range(0, epochs), history.loc[:,\"val_acc\"],label=\"Valudation\")\n",
    "plt.xlabel('epoch')\n",
    "plt.ylabel('model loss')\n",
    "plt.title('Accouracy')\n",
    "plt.legend()\n",
    "\n",
    "plt.show()\n"
   ]
  },
  {
   "cell_type": "code",
   "execution_count": 65,
   "id": "14ff9e07",
   "metadata": {},
   "outputs": [
    {
     "name": "stdout",
     "output_type": "stream",
     "text": [
      "1/1 [==============================] - 0s 36ms/step\n",
      "[[2.5271040e-03 9.5675904e-01 6.9047329e-03 5.7155348e-04 7.3496606e-03\n",
      "  5.0632242e-04 6.0667763e-03 9.8460345e-03 4.9675354e-03 4.5012101e-03]]\n"
     ]
    },
    {
     "data": {
      "image/png": "[encoded data removed]",
      "text/plain": [
       "<Figure size 432x288 with 1 Axes>"
      ]
     },
     "metadata": {
      "needs_background": "light"
     },
     "output_type": "display_data"
    },
    {
     "name": "stdout",
     "output_type": "stream",
     "text": [
      "1/1 [==============================] - 0s 35ms/step\n",
      "[[2.3537008e-03 9.5739055e-01 6.6001853e-03 6.4866152e-04 7.3743840e-03\n",
      "  5.5615109e-04 5.7657752e-03 9.3945060e-03 5.5306088e-03 4.3854569e-03]]\n"
     ]
    },
    {
     "data": {
      "image/png": "[encoded data removed]",
      "text/plain": [
       "<Figure size 432x288 with 1 Axes>"
      ]
     },
     "metadata": {
      "needs_background": "light"
     },
     "output_type": "display_data"
    },
    {
     "name": "stdout",
     "output_type": "stream",
     "text": [
      "1/1 [==============================] - 0s 33ms/step\n",
      "[[2.2226954e-03 9.5636755e-01 6.7310971e-03 6.3510204e-04 8.1426585e-03\n",
      "  5.5777264e-04 5.3895316e-03 9.5071308e-03 5.5604605e-03 4.8859403e-03]]\n"
     ]
    },
    {
     "data": {
      "image/png": "[encoded data removed]",
      "text/plain": [
       "<Figure size 432x288 with 1 Axes>"
      ]
     },
     "metadata": {
      "needs_background": "light"
     },
     "output_type": "display_data"
    },
    {
     "name": "stdout",
     "output_type": "stream",
     "text": [
      "1/1 [==============================] - 0s 39ms/step\n",
      "[[2.3558442e-03 9.5620626e-01 6.9067646e-03 6.2745187e-04 8.3135208e-03\n",
      "  5.4910983e-04 5.7661585e-03 9.1417385e-03 5.4786098e-03 4.6546692e-03]]\n"
     ]
    },
    {
     "data": {
      "image/png": "[encoded data removed]",
      "text/plain": [
       "<Figure size 432x288 with 1 Axes>"
      ]
     },
     "metadata": {
      "needs_background": "light"
     },
     "output_type": "display_data"
    },
    {
     "name": "stdout",
     "output_type": "stream",
     "text": [
      "1/1 [==============================] - 0s 67ms/step\n",
      "[[2.2820863e-03 9.5931005e-01 6.1554895e-03 5.5487227e-04 6.9378624e-03\n",
      "  4.7570450e-04 5.6477971e-03 9.2247277e-03 5.1111891e-03 4.3001799e-03]]\n"
     ]
    },
    {
     "data": {
      "image/png": "[encoded data removed]",
      "text/plain": [
       "<Figure size 432x288 with 1 Axes>"
      ]
     },
     "metadata": {
      "needs_background": "light"
     },
     "output_type": "display_data"
    },
    {
     "name": "stdout",
     "output_type": "stream",
     "text": [
      "1/1 [==============================] - 0s 45ms/step\n",
      "[[2.3165368e-03 9.5929831e-01 6.1894734e-03 5.5559678e-04 7.2868983e-03\n",
      "  5.0525076e-04 5.7452298e-03 9.2727682e-03 4.8305644e-03 3.9994232e-03]]\n"
     ]
    },
    {
     "data": {
      "image/png": "[encoded data removed]",
      "text/plain": [
       "<Figure size 432x288 with 1 Axes>"
      ]
     },
     "metadata": {
      "needs_background": "light"
     },
     "output_type": "display_data"
    },
    {
     "name": "stdout",
     "output_type": "stream",
     "text": [
      "1/1 [==============================] - 0s 50ms/step\n",
      "[[2.60529225e-03 9.51618671e-01 6.92139054e-03 6.45402062e-04\n",
      "  8.85306951e-03 5.93269186e-04 6.65751845e-03 1.05047515e-02\n",
      "  6.22811681e-03 5.37246279e-03]]\n"
     ]
    },
    {
     "data": {
      "image/png": "[encoded data removed]",
      "text/plain": [
       "<Figure size 432x288 with 1 Axes>"
      ]
     },
     "metadata": {
      "needs_background": "light"
     },
     "output_type": "display_data"
    },
    {
     "name": "stdout",
     "output_type": "stream",
     "text": [
      "1/1 [==============================] - 0s 84ms/step\n",
      "[[2.4088519e-03 9.5760560e-01 7.1397764e-03 6.2405266e-04 7.2501712e-03\n",
      "  4.9595587e-04 5.9517827e-03 9.1245398e-03 5.0948658e-03 4.3043192e-03]]\n"
     ]
    },
    {
     "data": {
      "image/png": "[encoded data removed]",
      "text/plain": [
       "<Figure size 432x288 with 1 Axes>"
      ]
     },
     "metadata": {
      "needs_background": "light"
     },
     "output_type": "display_data"
    },
    {
     "name": "stdout",
     "output_type": "stream",
     "text": [
      "1/1 [==============================] - 0s 39ms/step\n",
      "[[2.5506974e-03 9.5618194e-01 6.6561736e-03 6.0327176e-04 7.7866139e-03\n",
      "  5.2288146e-04 6.4158603e-03 9.4088912e-03 5.3947205e-03 4.4790087e-03]]\n"
     ]
    },
    {
     "data": {
      "image/png": "[encoded data removed]",
      "text/plain": [
       "<Figure size 432x288 with 1 Axes>"
      ]
     },
     "metadata": {
      "needs_background": "light"
     },
     "output_type": "display_data"
    },
    {
     "name": "stdout",
     "output_type": "stream",
     "text": [
      "1/1 [==============================] - 0s 42ms/step\n",
      "[[2.4162640e-03 9.5658743e-01 6.4108330e-03 5.9177616e-04 8.1438869e-03\n",
      "  5.4308964e-04 5.4542227e-03 9.7142207e-03 5.4974696e-03 4.6408242e-03]]\n"
     ]
    },
    {
     "data": {
      "image/png": "[encoded data removed]",
      "text/plain": [
       "<Figure size 432x288 with 1 Axes>"
      ]
     },
     "metadata": {
      "needs_background": "light"
     },
     "output_type": "display_data"
    }
   ],
   "source": [
    "from PIL import Image\n",
    "\n",
    "for digit in range(10):\n",
    "    digit_in = Image.open(f\"in/{digit}.png\").convert('L')\n",
    "    ydim, xdim = digit_in.size\n",
    "  \n",
    "    pix=digit_in.load();\n",
    "    \n",
    "    if keras.backend.image_data_format() == 'channels_first':\n",
    "        img = np.zeros((1, ydim, xdim))\n",
    "        for j in range(ydim):\n",
    "            for i in range(xdim):\n",
    "                img[0, i, j] = pix[j,i]\n",
    "    else:\n",
    "        img = np.zeros((ydim, xdim, 1))\n",
    "        for j in range(ydim):\n",
    "            for i in range(xdim):\n",
    "                img[i, j, 0] = pix[j,i]\n",
    "    img /= 255\n",
    "    pred = model_CNN.predict(img[None])\n",
    "    plt.imshow(img, cmap='gray')    \n",
    "    plt.title(f\"Digit predicted: {np.argmax(pred)}\")\n",
    "    plt.axis('off') \n",
    "    print(pred)\n",
    "    plt.show()"
   ]
  },
  {
   "cell_type": "code",
   "execution_count": null,
   "id": "4848061a",
   "metadata": {},
   "outputs": [],
   "source": []
  }
 ],
 "metadata": {
  "kernelspec": {
   "display_name": "Python 3 (ipykernel)",
   "language": "python",
   "name": "python3"
  },
  "language_info": {
   "codemirror_mode": {
    "name": "ipython",
    "version": 3
   },
   "file_extension": ".py",
   "mimetype": "text/x-python",
   "name": "python",
   "nbconvert_exporter": "python",
   "pygments_lexer": "ipython3",
   "version": "3.10.5"
  }
 },
 "nbformat": 4,
 "nbformat_minor": 5
}
