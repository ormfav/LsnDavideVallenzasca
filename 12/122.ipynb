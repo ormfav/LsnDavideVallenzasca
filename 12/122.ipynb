{
 "cells": [
  {
   "cell_type": "code",
   "execution_count": 4,
   "id": "d40b579c",
   "metadata": {},
   "outputs": [],
   "source": [
    "import os\n",
    "os.environ['KMP_DUPLICATE_LIB_OK']='True'\n",
    "import tensorflow as tf\n",
    "from tensorflow import keras\n",
    "import numpy as np\n",
    "import matplotlib.pyplot as plt"
   ]
  },
  {
   "cell_type": "code",
   "execution_count": 5,
   "id": "4fe505eb",
   "metadata": {},
   "outputs": [],
   "source": [
    "seed=0\n",
    "np.random.seed(seed)\n",
    "tf.random.set_seed(seed)"
   ]
  },
  {
   "cell_type": "code",
   "execution_count": 6,
   "id": "7d07d2f3",
   "metadata": {},
   "outputs": [
    {
     "name": "stdout",
     "output_type": "stream",
     "text": [
      "X_train shape: (60000, 28, 28)\n",
      "Y_train shape: (60000,)\n",
      "\n",
      "X_test shape: (10000, 28, 28)\n",
      "Y_test shape: (10000,)\n"
     ]
    }
   ],
   "source": [
    "from keras.datasets import mnist\n",
    "\n",
    "# input image dimensions\n",
    "img_rows, img_cols = 28, 28 # number of pixels \n",
    "# output\n",
    "num_classes = 10 # 10 digits\n",
    "\n",
    "# the data, split between train and test sets\n",
    "(x_train, y_train), (x_test, y_test) = mnist.load_data()\n",
    "\n",
    "print('X_train shape:', x_train.shape)\n",
    "print('Y_train shape:', y_train.shape)\n",
    "print()\n",
    "print('X_test shape:', x_test.shape)\n",
    "print('Y_test shape:', y_test.shape)"
   ]
  },
  {
   "cell_type": "code",
   "execution_count": 7,
   "id": "3a2aeb0f",
   "metadata": {},
   "outputs": [
    {
     "name": "stdout",
     "output_type": "stream",
     "text": [
      "X_train shape: (60000, 28, 28, 1)\n",
      "Y_train shape: (60000, 10)\n",
      "\n",
      "X_test shape: (10000, 28, 28, 1)\n",
      "Y_test shape: (10000, 10)\n"
     ]
    }
   ],
   "source": [
    "# you will need the following for Convolutional Neural Networks\n",
    "from keras.layers import Flatten, Conv2D, MaxPooling2D\n",
    "\n",
    "# reshape data, depending on Keras backend\n",
    "if keras.backend.image_data_format() == 'channels_first':\n",
    "    X_train = x_train.reshape(x_train.shape[0], 1, img_rows, img_cols)\n",
    "    X_test = x_test.reshape(x_test.shape[0], 1, img_rows, img_cols)\n",
    "    input_shape = (1, img_rows, img_cols)\n",
    "else:\n",
    "    X_train = x_train.reshape(x_train.shape[0], img_rows, img_cols, 1)\n",
    "    X_test = x_test.reshape(x_test.shape[0], img_rows, img_cols, 1)\n",
    "    input_shape = (img_rows, img_cols, 1)\n",
    "    \n",
    "Y_train = keras.utils.to_categorical(y_train, num_classes) #inizialmente le label sono la cifra, lo voglio trasformare in vettore di bit di cui quello acceso è quello con indice la cifra (cioè quello che sarà output rete)\n",
    "Y_test = keras.utils.to_categorical(y_test, num_classes)\n",
    "\n",
    "\n",
    "print('X_train shape:', X_train.shape)\n",
    "print('Y_train shape:', Y_train.shape)\n",
    "print()\n",
    "print('X_test shape:', X_test.shape)\n",
    "print('Y_test shape:', Y_test.shape)"
   ]
  },
  {
   "cell_type": "code",
   "execution_count": 8,
   "id": "dbe70172",
   "metadata": {},
   "outputs": [],
   "source": [
    "from keras.models import Sequential\n",
    "from keras.layers import Dense, Dropout #Dropout per limitare overfitting\n",
    "from keras.layers import Flatten, Conv2D, AveragePooling2D\n",
    "\n",
    "\n",
    "def create_model():\n",
    "    #instantiate model\n",
    "    model = Sequential()\n",
    "    #Convolutional\n",
    "    ##in: 28x28x1\n",
    "    model.add(Conv2D(10, kernel_size=(5, 5), activation='relu', input_shape=input_shape))\n",
    "    ##out: 24x24x10, in:\n",
    "    model.add(AveragePooling2D(pool_size=(2,2)))\n",
    "    ##out: 12x12x10, in:\n",
    "    model.add(Conv2D(16, kernel_size=(5,5),strides=2))\n",
    "    ##out: 4x4x16, in:\n",
    "    #Deep\n",
    "    model.add(Flatten())\n",
    "    model.add(Dense(64, activation='relu'))\n",
    "    model.add(Dropout(0.1))\n",
    "    model.add(Dense(num_classes, activation='softmax'))\n",
    "    model.summary()\n",
    "\n",
    "    return model"
   ]
  },
  {
   "cell_type": "code",
   "execution_count": 9,
   "id": "73bf2690",
   "metadata": {},
   "outputs": [],
   "source": [
    "from keras.optimizers import SGD, RMSprop, Adam, Nadam, Adagrad, Adadelta, Adamax\n",
    "\n",
    "def compile_model(opt_function):\n",
    "    # create the model\n",
    "    model=create_model()\n",
    "    # compile the model\n",
    "    model.compile(loss=keras.losses.categorical_crossentropy,\n",
    "                  optimizer=opt_function,\n",
    "                  metrics=['acc'])\n",
    "    return model"
   ]
  },
  {
   "cell_type": "code",
   "execution_count": 10,
   "id": "79742cba",
   "metadata": {},
   "outputs": [
    {
     "name": "stdout",
     "output_type": "stream",
     "text": [
      "Model: \"sequential\"\n",
      "_________________________________________________________________\n",
      " Layer (type)                Output Shape              Param #   \n",
      "=================================================================\n",
      " conv2d (Conv2D)             (None, 24, 24, 10)        260       \n",
      "                                                                 \n",
      " average_pooling2d (AverageP  (None, 12, 12, 10)       0         \n",
      " ooling2D)                                                       \n",
      "                                                                 \n",
      " conv2d_1 (Conv2D)           (None, 4, 4, 16)          4016      \n",
      "                                                                 \n",
      " flatten (Flatten)           (None, 256)               0         \n",
      "                                                                 \n",
      " dense (Dense)               (None, 64)                16448     \n",
      "                                                                 \n",
      " dropout (Dropout)           (None, 64)                0         \n",
      "                                                                 \n",
      " dense_1 (Dense)             (None, 10)                650       \n",
      "                                                                 \n",
      "=================================================================\n",
      "Total params: 21,374\n",
      "Trainable params: 21,374\n",
      "Non-trainable params: 0\n",
      "_________________________________________________________________\n"
     ]
    }
   ],
   "source": [
    "model_CNN=compile_model(SGD())"
   ]
  },
  {
   "cell_type": "code",
   "execution_count": 13,
   "id": "50e01090",
   "metadata": {},
   "outputs": [
    {
     "name": "stdout",
     "output_type": "stream",
     "text": [
      "Epoch 1/20\n",
      "1875/1875 [==============================] - 59s 32ms/step - loss: 2.3014 - acc: 0.1124 - val_loss: 2.3011 - val_acc: 0.1135\n",
      "Epoch 2/20\n",
      "1875/1875 [==============================] - 60s 32ms/step - loss: 2.3013 - acc: 0.1124 - val_loss: 2.3010 - val_acc: 0.1135\n",
      "Epoch 3/20\n",
      "1875/1875 [==============================] - 62s 33ms/step - loss: 2.3013 - acc: 0.1124 - val_loss: 2.3010 - val_acc: 0.1135\n",
      "Epoch 4/20\n",
      "1875/1875 [==============================] - 60s 32ms/step - loss: 2.3013 - acc: 0.1124 - val_loss: 2.3011 - val_acc: 0.1135\n",
      "Epoch 5/20\n",
      "1875/1875 [==============================] - 59s 31ms/step - loss: 2.3013 - acc: 0.1124 - val_loss: 2.3011 - val_acc: 0.1135\n",
      "Epoch 6/20\n",
      "1875/1875 [==============================] - 60s 32ms/step - loss: 2.3013 - acc: 0.1123 - val_loss: 2.3010 - val_acc: 0.1135\n",
      "Epoch 7/20\n",
      "1875/1875 [==============================] - 58s 31ms/step - loss: 2.3013 - acc: 0.1124 - val_loss: 2.3010 - val_acc: 0.1135\n",
      "Epoch 8/20\n",
      "1875/1875 [==============================] - 60s 32ms/step - loss: 2.3013 - acc: 0.1124 - val_loss: 2.3010 - val_acc: 0.1135\n",
      "Epoch 9/20\n",
      "1875/1875 [==============================] - 60s 32ms/step - loss: 2.3013 - acc: 0.1124 - val_loss: 2.3010 - val_acc: 0.1135\n",
      "Epoch 10/20\n",
      "1875/1875 [==============================] - 61s 32ms/step - loss: 2.3012 - acc: 0.1124 - val_loss: 2.3011 - val_acc: 0.1135\n",
      "Epoch 11/20\n",
      "1875/1875 [==============================] - 60s 32ms/step - loss: 2.3013 - acc: 0.1124 - val_loss: 2.3010 - val_acc: 0.1135\n",
      "Epoch 12/20\n",
      "1875/1875 [==============================] - 58s 31ms/step - loss: 2.3013 - acc: 0.1124 - val_loss: 2.3010 - val_acc: 0.1135\n",
      "Epoch 13/20\n",
      "1875/1875 [==============================] - 58s 31ms/step - loss: 2.3013 - acc: 0.1124 - val_loss: 2.3011 - val_acc: 0.1135\n",
      "Epoch 14/20\n",
      "1875/1875 [==============================] - 58s 31ms/step - loss: 2.3013 - acc: 0.1124 - val_loss: 2.3010 - val_acc: 0.1135\n",
      "Epoch 15/20\n",
      "1875/1875 [==============================] - 59s 31ms/step - loss: 2.3013 - acc: 0.1124 - val_loss: 2.3010 - val_acc: 0.1135\n",
      "Epoch 16/20\n",
      "1875/1875 [==============================] - 60s 32ms/step - loss: 2.3012 - acc: 0.1123 - val_loss: 2.3011 - val_acc: 0.1135\n",
      "Epoch 17/20\n",
      "1875/1875 [==============================] - 59s 31ms/step - loss: 2.3012 - acc: 0.1123 - val_loss: 2.3013 - val_acc: 0.1135\n",
      "Epoch 18/20\n",
      "1875/1875 [==============================] - 60s 32ms/step - loss: 2.3013 - acc: 0.1123 - val_loss: 2.3013 - val_acc: 0.1135\n",
      "Epoch 19/20\n",
      "1875/1875 [==============================] - 59s 31ms/step - loss: 2.3013 - acc: 0.1124 - val_loss: 2.3010 - val_acc: 0.1135\n",
      "Epoch 20/20\n",
      "1875/1875 [==============================] - 60s 32ms/step - loss: 2.3012 - acc: 0.1124 - val_loss: 2.3015 - val_acc: 0.1135\n",
      "Storing model and history\n"
     ]
    },
    {
     "name": "stderr",
     "output_type": "stream",
     "text": [
      "WARNING:absl:Found untraced functions such as _jit_compiled_convolution_op, _jit_compiled_convolution_op while saving (showing 2 of 2). These functions will not be directly callable after loading.\n"
     ]
    },
    {
     "name": "stdout",
     "output_type": "stream",
     "text": [
      "INFO:tensorflow:Assets written to: store/122-model.tf/assets\n"
     ]
    },
    {
     "name": "stderr",
     "output_type": "stream",
     "text": [
      "INFO:tensorflow:Assets written to: store/122-model.tf/assets\n"
     ]
    },
    {
     "name": "stdout",
     "output_type": "stream",
     "text": [
      "\n"
     ]
    }
   ],
   "source": [
    "RERUN=False\n",
    "epochs = 20\n",
    "\n",
    "if(RERUN):\n",
    "    batch_size = 32 \n",
    "    history = model_CNN.fit(X_train, Y_train,\n",
    "                            batch_size=batch_size,\n",
    "                            epochs=epochs,\n",
    "                            verbose=1,\n",
    "                            validation_data=(X_test, Y_test))\n",
    "    import pandas as pd\n",
    "    print(\"Storing model and history\")\n",
    "    path = \"store/122-\"\n",
    "    path_history = path+\"history.csv\"\n",
    "    path_model = path+\"model.tf\"\n",
    "        \n",
    "    model_DNN.save(filepath=path_model, include_optimizer=True)  \n",
    "    df  = pd.DataFrame(history.history) \n",
    "    with open(path_history, mode='w') as file:\n",
    "        df.to_csv(file)\n",
    "    print()\n"
   ]
  },
  {
   "cell_type": "code",
   "execution_count": 16,
   "id": "f18f0dc0",
   "metadata": {},
   "outputs": [
    {
     "name": "stdout",
     "output_type": "stream",
     "text": [
      "313/313 [==============================] - 5s 13ms/step - loss: 25.7019 - acc: 0.1094\n"
     ]
    },
    {
     "data": {
      "text/plain": [
       "Text(0.5, 1.0, 'Accuracy - test')"
      ]
     },
     "execution_count": 16,
     "metadata": {},
     "output_type": "execute_result"
    },
    {
     "data": {
      "image/png": "[encoded data removed]",
      "text/plain": [
       "<Figure size 432x288 with 4 Axes>"
      ]
     },
     "metadata": {
      "needs_background": "light"
     },
     "output_type": "display_data"
    }
   ],
   "source": [
    "import numpy as np\n",
    "import pandas as pd\n",
    "import matplotlib.pyplot as plt\n",
    "from tensorflow.keras.models import load_model\n",
    "\n",
    "path = \"store/122-\"\n",
    "model_DNN=load_model(path+\"model.tf\")\n",
    "history = pd.read_csv(path+\"history.csv\")\n",
    "    \n",
    "score = model_DNN.evaluate(X_test, Y_test, verbose=1)\n",
    "\n",
    "plt.subplot(2, 2, 1)\n",
    "plt.plot(range(0, epochs), history.loc[:,\"loss\"])\n",
    "plt.xlabel('epoch')\n",
    "plt.ylabel('model loss')\n",
    "plt.title('Loss - train')\n",
    "\n",
    "plt.subplot(2, 2, 2)\n",
    "plt.plot(range(0, epochs), history.loc[:,\"val_loss\"])\n",
    "plt.xlabel('epoch')\n",
    "plt.ylabel('model loss')\n",
    "plt.title('Loss - test')\n",
    "\n",
    "plt.subplot(2, 2, 3)\n",
    "plt.plot(range(0, epochs), history.loc[:,\"acc\"])\n",
    "plt.xlabel('epoch')\n",
    "plt.ylabel('model loss')\n",
    "plt.title('Accuracy - train')\n",
    "\n",
    "plt.subplot(2, 2, 4)\n",
    "plt.plot(range(0, epochs), history.loc[:,\"val_acc\"])\n",
    "plt.xlabel('epoch')\n",
    "plt.ylabel('model loss')\n",
    "plt.title('Accuracy - test')"
   ]
  },
  {
   "cell_type": "code",
   "execution_count": null,
   "id": "14ff9e07",
   "metadata": {},
   "outputs": [],
   "source": []
  }
 ],
 "metadata": {
  "kernelspec": {
   "display_name": "Python 3 (ipykernel)",
   "language": "python",
   "name": "python3"
  },
  "language_info": {
   "codemirror_mode": {
    "name": "ipython",
    "version": 3
   },
   "file_extension": ".py",
   "mimetype": "text/x-python",
   "name": "python",
   "nbconvert_exporter": "python",
   "pygments_lexer": "ipython3",
   "version": "3.10.5"
  }
 },
 "nbformat": 4,
 "nbformat_minor": 5
}
