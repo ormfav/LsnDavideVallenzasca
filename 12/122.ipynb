{
 "cells": [
  {
   "cell_type": "markdown",
   "id": "bea53e3d",
   "metadata": {},
   "source": [
    "# $12^{th}$ excercises - 12.1: Classification of images with a Convolutional neural network\n",
    "## Notebook setup\n",
    "#### Used libraries"
   ]
  },
  {
   "cell_type": "code",
   "execution_count": 47,
   "id": "cafefdd8",
   "metadata": {},
   "outputs": [],
   "source": [
    "import os\n",
    "os.environ['KMP_DUPLICATE_LIB_OK']='True'\n",
    "import tensorflow as tf\n",
    "from tensorflow import keras\n",
    "from tensorflow.keras.models import load_model\n",
    "from keras.datasets import mnist\n",
    "from keras.models import Sequential\n",
    "from keras.layers import Dense, Dropout \n",
    "from keras.layers import Flatten, Conv2D, AveragePooling2D, MaxPooling2D, GaussianNoise\n",
    "from keras.optimizers import Adam\n",
    "\n",
    "from PIL import Image\n",
    "\n",
    "import numpy as np\n",
    "import pandas as pd\n",
    "import matplotlib.pyplot as plt"
   ]
  },
  {
   "cell_type": "markdown",
   "id": "872e4871",
   "metadata": {},
   "source": [
    "#### Functions"
   ]
  },
  {
   "cell_type": "code",
   "execution_count": 12,
   "id": "d0d6e7a0",
   "metadata": {},
   "outputs": [],
   "source": [
    "def PlotSetup():\n",
    "    plt.axes().set_facecolor(bg1)\n",
    "    plt.grid(alpha=0.3)\n",
    "\n",
    "def MultiplotSetup(fig,r,c,nplots=0):\n",
    "    if nplots == 0 : nplots=r*c\n",
    "    for i in range(nplots):\n",
    "        plt.subplot(r,c,i+1)\n",
    "        fig.axes[i].set_facecolor(bg1)\n",
    "        plt.grid(alpha=0.3) \n",
    "\n",
    "def Legend():\n",
    "    leg = plt.legend(facecolor=bg2)\n",
    "    for text in leg.get_texts():\n",
    "        text.set_color(el1)"
   ]
  },
  {
   "cell_type": "code",
   "execution_count": 55,
   "id": "44804c67",
   "metadata": {},
   "outputs": [],
   "source": [
    "def create_model():   \n",
    "    #instantiate model\n",
    "    model = Sequential()\n",
    "    #Convolutional\n",
    "    ##in: 28x28x1\n",
    "    model.add(Conv2D(6, kernel_size=(5, 5), activation='relu', input_shape=input_shape))\n",
    "    ##out: 24x24x6, in:\n",
    "    model.add(MaxPooling2D(pool_size=(2,2)))\n",
    "    ##out: 12x12x6, in:\n",
    "    model.add(GaussianNoise(0.2))\n",
    "    model.add(Conv2D(16, kernel_size=(3,3)))\n",
    "    ##out: 8x8x16, in:\n",
    "    model.add(AveragePooling2D(pool_size=(2,2)))\n",
    "    ##out: 4x4x16, in:\n",
    "    #Deep\n",
    "    model.add(Flatten())\n",
    "    model.add(Dense(250, activation='relu'))\n",
    "    model.add(Dropout(0.2))\n",
    "    model.add(Dense(100, activation='relu'))\n",
    "    model.add(Dense(num_classes, activation='softmax'))\n",
    "\n",
    "    return model\n",
    "\n",
    "def compile_model(opt_function):\n",
    "    # create the model\n",
    "    model=create_model()\n",
    "    # compile the model\n",
    "    model.compile(loss=keras.losses.categorical_crossentropy,\n",
    "                  optimizer=opt_function,\n",
    "                  metrics=['acc'])\n",
    "    return model"
   ]
  },
  {
   "cell_type": "markdown",
   "id": "ff3189dc",
   "metadata": {},
   "source": [
    "#### Colors"
   ]
  },
  {
   "cell_type": "code",
   "execution_count": 13,
   "id": "5399155e",
   "metadata": {},
   "outputs": [],
   "source": [
    "#background\n",
    "bg1 = \"#191724\" \n",
    "bg2 = \"#26233a\" \n",
    "#elements\n",
    "el1 = \"#e0def4\" \n",
    "el2 = \"#f6c177\" \n",
    "el3 = \"#eb6f92\" \n",
    "el4 = \"#31748f\"\n",
    "#errorbars\n",
    "er1 = \"#908caa\"  \n",
    "er2 = \"#6e6a86\""
   ]
  },
  {
   "cell_type": "code",
   "execution_count": 4,
   "id": "4fe505eb",
   "metadata": {},
   "outputs": [],
   "source": [
    "seed=0\n",
    "np.random.seed(seed)\n",
    "tf.random.set_seed(seed)"
   ]
  },
  {
   "cell_type": "markdown",
   "id": "db2eaad8",
   "metadata": {},
   "source": [
    "## The excercise \n",
    "The NN we built in the previous excercise did its job but was not built to satisfy some symmetries peculiar to image recognition, such as translational or rotational invariance (for instance, we want our NN to recognise a number even if it is rotated or not centered in the picture). Convolutional neural network (CNN) take advantage of these additional structures. They are made of two kind of layers:\n",
    "- Convolutional layers, that apply a filter to the whole image\n",
    "- Pooling filters, that reduces the amount of information in the image while trying to preserve the foundamental charateristics\n",
    "\n",
    "After the convolutional phase, the information is still processed by a classical DNN.\n",
    "\n",
    "In this excercise we want to build a CNN that performs digit recognition.\n",
    "\n",
    "Let's  build the training dataset."
   ]
  },
  {
   "cell_type": "code",
   "execution_count": 5,
   "id": "7d07d2f3",
   "metadata": {},
   "outputs": [
    {
     "name": "stdout",
     "output_type": "stream",
     "text": [
      "X_train shape: (60000, 28, 28)\n",
      "Y_train shape: (60000,)\n",
      "\n",
      "X_valid shape: (10000, 28, 28)\n",
      "Y_valid shape: (10000,)\n"
     ]
    }
   ],
   "source": [
    "# input image dimensions\n",
    "img_rows, img_cols = 28, 28 # number of pixels \n",
    "# output\n",
    "num_classes = 10 # 10 digits\n",
    "\n",
    "# the data, split between train and test sets\n",
    "(x_train, y_train), (x_valid, y_valid) = mnist.load_data()\n",
    "\n",
    "print('X_train shape:', x_train.shape)\n",
    "print('Y_train shape:', y_train.shape)\n",
    "print()\n",
    "print('X_valid shape:', x_valid.shape)\n",
    "print('Y_valid shape:', y_valid.shape)"
   ]
  },
  {
   "cell_type": "code",
   "execution_count": 6,
   "id": "3a2aeb0f",
   "metadata": {},
   "outputs": [
    {
     "name": "stdout",
     "output_type": "stream",
     "text": [
      "X_train shape: (60000, 28, 28, 1)\n",
      "Y_train shape: (60000, 10)\n",
      "\n",
      "X_valid shape: (10000, 28, 28, 1)\n",
      "Y_valid shape: (10000, 10)\n"
     ]
    }
   ],
   "source": [
    "# reshape data, depending on Keras backend\n",
    "if keras.backend.image_data_format() == 'channels_first':\n",
    "    X_train = x_train.reshape(x_train.shape[0], 1, img_rows, img_cols)\n",
    "    X_valid = x_valid.reshape(x_valid.shape[0], 1, img_rows, img_cols)\n",
    "    input_shape = (1, img_rows, img_cols)\n",
    "else:\n",
    "    X_train = x_train.reshape(x_train.shape[0], img_rows, img_cols, 1)\n",
    "    X_valid = x_valid.reshape(x_valid.shape[0], img_rows, img_cols, 1)\n",
    "    input_shape = (img_rows, img_cols, 1)\n",
    "\n",
    "# cast floats to single precision\n",
    "X_train = X_train.astype('float32')\n",
    "X_valid = X_valid.astype('float32')\n",
    "    \n",
    "# rescale data in interval [0,1]\n",
    "X_train /= 255\n",
    "X_valid /= 255\n",
    "    \n",
    "Y_train = keras.utils.to_categorical(y_train, num_classes) #inizialmente le label sono la cifra, lo voglio trasformare in vettore di bit di cui quello acceso è quello con indice la cifra (cioè quello che sarà output rete)\n",
    "Y_valid = keras.utils.to_categorical(y_valid, num_classes)\n",
    "\n",
    "\n",
    "print('X_train shape:', X_train.shape)\n",
    "print('Y_train shape:', Y_train.shape)\n",
    "print()\n",
    "print('X_valid shape:', X_valid.shape)\n",
    "print('Y_valid shape:', Y_valid.shape)"
   ]
  },
  {
   "cell_type": "markdown",
   "id": "a49a3d3a",
   "metadata": {},
   "source": [
    "We then compile and train the model based on the observaitions done in the previous excercise."
   ]
  },
  {
   "cell_type": "code",
   "execution_count": 56,
   "id": "79742cba",
   "metadata": {
    "scrolled": false
   },
   "outputs": [
    {
     "name": "stdout",
     "output_type": "stream",
     "text": [
      "Model: \"sequential_14\"\n",
      "_________________________________________________________________\n",
      " Layer (type)                Output Shape              Param #   \n",
      "=================================================================\n",
      " conv2d_25 (Conv2D)          (None, 24, 24, 6)         156       \n",
      "                                                                 \n",
      " max_pooling2d_15 (MaxPoolin  (None, 12, 12, 6)        0         \n",
      " g2D)                                                            \n",
      "                                                                 \n",
      " gaussian_noise_3 (GaussianN  (None, 12, 12, 6)        0         \n",
      " oise)                                                           \n",
      "                                                                 \n",
      " conv2d_26 (Conv2D)          (None, 10, 10, 16)        880       \n",
      "                                                                 \n",
      " average_pooling2d_10 (Avera  (None, 5, 5, 16)         0         \n",
      " gePooling2D)                                                    \n",
      "                                                                 \n",
      " flatten_11 (Flatten)        (None, 400)               0         \n",
      "                                                                 \n",
      " dense_29 (Dense)            (None, 250)               100250    \n",
      "                                                                 \n",
      " dropout_19 (Dropout)        (None, 250)               0         \n",
      "                                                                 \n",
      " dense_30 (Dense)            (None, 100)               25100     \n",
      "                                                                 \n",
      " dense_31 (Dense)            (None, 10)                1010      \n",
      "                                                                 \n",
      "=================================================================\n",
      "Total params: 127,396\n",
      "Trainable params: 127,396\n",
      "Non-trainable params: 0\n",
      "_________________________________________________________________\n"
     ]
    }
   ],
   "source": [
    "model_CNN=compile_model(Adam())\n",
    "model_CNN.summary()"
   ]
  },
  {
   "cell_type": "code",
   "execution_count": 57,
   "id": "50e01090",
   "metadata": {},
   "outputs": [
    {
     "name": "stdout",
     "output_type": "stream",
     "text": [
      "Epoch 1/10\n"
     ]
    },
    {
     "name": "stderr",
     "output_type": "stream",
     "text": [
      "2022-06-26 23:47:26.292566: W tensorflow/core/framework/cpu_allocator_impl.cc:82] Allocation of 188160000 exceeds 10% of free system memory.\n"
     ]
    },
    {
     "name": "stdout",
     "output_type": "stream",
     "text": [
      "1875/1875 [==============================] - 44s 23ms/step - loss: 0.2335 - acc: 0.9274 - val_loss: 0.0768 - val_acc: 0.9752\n",
      "Epoch 2/10\n",
      "1875/1875 [==============================] - 43s 23ms/step - loss: 0.0988 - acc: 0.9696 - val_loss: 0.0650 - val_acc: 0.9791\n",
      "Epoch 3/10\n",
      "1875/1875 [==============================] - 44s 24ms/step - loss: 0.0768 - acc: 0.9762 - val_loss: 0.0455 - val_acc: 0.9851\n",
      "Epoch 4/10\n",
      "1875/1875 [==============================] - 45s 24ms/step - loss: 0.0646 - acc: 0.9795 - val_loss: 0.0488 - val_acc: 0.9850\n",
      "Epoch 5/10\n",
      "1875/1875 [==============================] - 47s 25ms/step - loss: 0.0544 - acc: 0.9834 - val_loss: 0.0415 - val_acc: 0.9872\n",
      "Epoch 6/10\n",
      "1875/1875 [==============================] - 49s 26ms/step - loss: 0.0469 - acc: 0.9852 - val_loss: 0.0409 - val_acc: 0.9872\n",
      "Epoch 7/10\n",
      "1875/1875 [==============================] - 41s 22ms/step - loss: 0.0446 - acc: 0.9861 - val_loss: 0.0420 - val_acc: 0.9872\n",
      "Epoch 8/10\n",
      "1875/1875 [==============================] - 43s 23ms/step - loss: 0.0399 - acc: 0.9874 - val_loss: 0.0413 - val_acc: 0.9886\n",
      "Epoch 9/10\n",
      "1875/1875 [==============================] - 48s 26ms/step - loss: 0.0357 - acc: 0.9882 - val_loss: 0.0431 - val_acc: 0.9871\n",
      "Epoch 10/10\n",
      "1875/1875 [==============================] - 49s 26ms/step - loss: 0.0336 - acc: 0.9895 - val_loss: 0.0340 - val_acc: 0.9896\n",
      "Storing model and history\n"
     ]
    },
    {
     "name": "stderr",
     "output_type": "stream",
     "text": [
      "WARNING:absl:Found untraced functions such as _jit_compiled_convolution_op, _jit_compiled_convolution_op while saving (showing 2 of 2). These functions will not be directly callable after loading.\n"
     ]
    },
    {
     "name": "stdout",
     "output_type": "stream",
     "text": [
      "INFO:tensorflow:Assets written to: store/122-CNN-model.tf/assets\n"
     ]
    },
    {
     "name": "stderr",
     "output_type": "stream",
     "text": [
      "INFO:tensorflow:Assets written to: store/122-CNN-model.tf/assets\n"
     ]
    },
    {
     "name": "stdout",
     "output_type": "stream",
     "text": [
      "\n"
     ]
    }
   ],
   "source": [
    "RERUN=True\n",
    "epochs = 10\n",
    "\n",
    "if(RERUN):\n",
    "    batch_size = 32 \n",
    "    history = model_CNN.fit(X_train, Y_train,\n",
    "                            batch_size=batch_size,\n",
    "                            epochs=epochs,\n",
    "                            verbose=1,\n",
    "                            validation_data=(X_valid, Y_valid))\n",
    "    print(\"Storing model and history\")\n",
    "    path = \"store/122-CNN-\"\n",
    "    path_history = path+\"history.csv\"\n",
    "    path_model = path+\"model.tf\"\n",
    "        \n",
    "    model_CNN.save(filepath=path_model, include_optimizer=True)  \n",
    "    df  = pd.DataFrame(history.history) \n",
    "    with open(path_history, mode='w') as file:\n",
    "        df.to_csv(file)\n",
    "    print()\n"
   ]
  },
  {
   "cell_type": "markdown",
   "id": "44812594",
   "metadata": {},
   "source": [
    "And finally we check how our model performs"
   ]
  },
  {
   "cell_type": "code",
   "execution_count": 58,
   "id": "4592a448",
   "metadata": {},
   "outputs": [
    {
     "name": "stdout",
     "output_type": "stream",
     "text": [
      "313/313 [==============================] - 4s 10ms/step - loss: 0.0340 - acc: 0.9896\n"
     ]
    },
    {
     "data": {
      "image/png": "[encoded data removed]",
      "text/plain": [
       "<Figure size 1152x576 with 2 Axes>"
      ]
     },
     "metadata": {
      "needs_background": "light"
     },
     "output_type": "display_data"
    }
   ],
   "source": [
    "path = \"store/122-CNN-\"\n",
    "model_CNN=load_model(path+\"model.tf\")\n",
    "history = pd.read_csv(path+\"history.csv\")\n",
    "    \n",
    "score = model_CNN.evaluate(X_valid, Y_valid, verbose=1)\n",
    "\n",
    "fig=plt.figure(figsize=(16, 8))\n",
    "MultiplotSetup(fig,1,2)\n",
    "plt.suptitle(\"Performances\")\n",
    "\n",
    "plt.subplot(121)\n",
    "plt.title('Loss')\n",
    "plt.xlabel('epoch')\n",
    "plt.ylabel('model loss')\n",
    "plt.plot(range(0, epochs), history.loc[:,\"loss\"],label=\"Training\",c=el1)\n",
    "plt.plot(range(0, epochs), history.loc[:,\"val_loss\"],label=\"Validation\",c=el2)\n",
    "\n",
    "Legend()\n",
    "\n",
    "plt.subplot(122)\n",
    "plt.title('Accouracy')\n",
    "plt.xlabel('epoch')\n",
    "plt.ylabel('model loss')\n",
    "plt.plot(range(0, epochs), history.loc[:,\"acc\"], label=\"Training\",c=el1)\n",
    "plt.plot(range(0, epochs), history.loc[:,\"val_acc\"],label=\"Valudation\",c=el2)\n",
    "\n",
    "Legend()\n",
    "\n",
    "plt.show()\n"
   ]
  },
  {
   "cell_type": "code",
   "execution_count": 59,
   "id": "14ff9e07",
   "metadata": {},
   "outputs": [
    {
     "name": "stdout",
     "output_type": "stream",
     "text": [
      "313/313 [==============================] - 3s 10ms/step\n"
     ]
    },
    {
     "data": {
      "image/png": "[encoded data removed]",
      "text/plain": [
       "<Figure size 1080x1080 with 10 Axes>"
      ]
     },
     "metadata": {
      "needs_background": "light"
     },
     "output_type": "display_data"
    }
   ],
   "source": [
    "predictions = model_CNN.predict(X_valid)\n",
    "\n",
    "X_valid = X_valid.reshape(X_valid.shape[0], img_rows, img_cols,1)\n",
    "\n",
    "plt.figure(figsize=(15, 15)) \n",
    "for i in range(10):    \n",
    "    ax = plt.subplot(2, 10, i + 1)    \n",
    "    plt.imshow(X_valid[i, :, :, 0], cmap='gray')    \n",
    "    plt.title(\"Digit: {}\\nPredicted:    {}\".format(np.argmax(Y_valid[i]), np.argmax(predictions[i])))    \n",
    "    plt.axis('off') \n",
    "plt.show()"
   ]
  },
  {
   "cell_type": "code",
   "execution_count": null,
   "id": "4848061a",
   "metadata": {},
   "outputs": [],
   "source": []
  }
 ],
 "metadata": {
  "kernelspec": {
   "display_name": "Python 3 (ipykernel)",
   "language": "python",
   "name": "python3"
  },
  "language_info": {
   "codemirror_mode": {
    "name": "ipython",
    "version": 3
   },
   "file_extension": ".py",
   "mimetype": "text/x-python",
   "name": "python",
   "nbconvert_exporter": "python",
   "pygments_lexer": "ipython3",
   "version": "3.10.5"
  }
 },
 "nbformat": 4,
 "nbformat_minor": 5
}
